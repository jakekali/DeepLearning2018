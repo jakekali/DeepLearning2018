{
  "nbformat": 4,
  "nbformat_minor": 0,
  "metadata": {
    "colab": {
      "name": "Gradient Descent.ipynb",
      "version": "0.3.2",
      "provenance": [],
      "toc_visible": true,
      "include_colab_link": true
    },
    "kernelspec": {
      "name": "python3",
      "display_name": "Python 3"
    }
  },
  "cells": [
    {
      "cell_type": "markdown",
      "metadata": {
        "id": "view-in-github",
        "colab_type": "text"
      },
      "source": [
        "[View in Colaboratory](https://colab.research.google.com/github/jakekali/DeepLearning2018/blob/master/Gradient_Descent.ipynb)"
      ]
    },
    {
      "metadata": {
        "id": "JaVnMmxrVPP9",
        "colab_type": "code",
        "colab": {}
      },
      "cell_type": "code",
      "source": [
        "import numpy as np\n",
        "\n",
        "\n",
        "def run():\n",
        "    points = np.genfromtxt('vid2/data.csv', delimiter=\",\")\n",
        "    # hyperparamaters\n",
        "    learning_rate = 0.0001\n",
        "    initial_m = 0\n",
        "    initial_b = 0\n",
        "    num_iterations = 1000\n",
        "    [b, m] = gradient_descent_runner(points, initial_b, initial_m, learning_rate, num_iterations)\n",
        "    print(\"Final b:\")\n",
        "    print (b)\n",
        "    print(\"Final m:\")\n",
        "    print (m)\n",
        "\n",
        "def gradient_descent_runner(points,starting_b,starting_m,learning_rate, num_iterations):\n",
        "    b = starting_b\n",
        "    m = starting_m\n",
        "\n",
        "    for i in range(num_iterations):\n",
        "        b, m = step_grandient(b,m, np.array(points), learning_rate)\n",
        "\n",
        "    return [b,m]\n",
        "\n",
        "def step_grandient(current_b,current_m, points, learning_rate):\n",
        "    #gradient Decsent\n",
        "\n",
        "    b_gradient = 0\n",
        "    m_gradient = 0\n",
        "    N = float(len(points))\n",
        "    for i in range(0,len(points)):\n",
        "        x  = points[i,0]\n",
        "        y = points[i,1]\n",
        "\n",
        "        b_gradient += -(2/N) * (y -((current_m * x))+ current_b)\n",
        "        m_gradient += -(2 / N) * x * (y - ((current_m * x)) + current_b)\n",
        "    new_b = current_b - ((learning_rate) * b_gradient)\n",
        "    new_m = current_m - (learning_rate * m_gradient)\n",
        "    print(\"M:\")\n",
        "    print(new_m)\n",
        "    print(\"B:\")\n",
        "    print(new_b)\n",
        "    return [new_b,new_m]\n",
        "\n",
        "def compute_error_for_given_points(b,m,points):\n",
        "    totalError = 0\n",
        "    for i in range(o, len(points)):\n",
        "        x = points[i,0]\n",
        "        y = points[i,1]\n",
        "        totalError += (y - (m*x + b)) ** 2\n",
        "        return totalError / float(len(points))\n",
        "\n",
        "\n",
        "\n",
        "\n",
        "\n",
        "if __name__ == '__main__':\n",
        "    run()"
      ],
      "execution_count": 0,
      "outputs": []
    }
  ]
}