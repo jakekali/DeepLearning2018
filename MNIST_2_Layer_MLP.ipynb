{
  "nbformat": 4,
  "nbformat_minor": 0,
  "metadata": {
    "colab": {
      "name": "MNIST - 2 Layer MLP.ipynb",
      "version": "0.3.2",
      "provenance": [],
      "include_colab_link": true
    },
    "kernelspec": {
      "name": "python3",
      "display_name": "Python 3"
    }
  },
  "cells": [
    {
      "cell_type": "markdown",
      "metadata": {
        "id": "view-in-github",
        "colab_type": "text"
      },
      "source": [
        "[View in Colaboratory](https://colab.research.google.com/github/jakekali/DeepLearning2018/blob/master/MNIST_2_Layer_MLP.ipynb)"
      ]
    },
    {
      "metadata": {
        "id": "H9ChzdGdKRhk",
        "colab_type": "text"
      },
      "cell_type": "markdown",
      "source": [
        "***My broken NN!***"
      ]
    },
    {
      "metadata": {
        "id": "UpN-F2O3DNpN",
        "colab_type": "code",
        "colab": {
          "base_uri": "https://localhost:8080/",
          "height": 156
        },
        "outputId": "b717c492-db4e-4098-ffc4-59027feea275"
      },
      "cell_type": "code",
      "source": [
        "import tensorflow as tf\n",
        "#Importing MNIST Data \n",
        "from tensorflow.examples.tutorials.mnist import input_data\n",
        "mnist = input_data.read_data_sets(\"MNIST_data/\", one_hot=True)\n",
        "\n",
        "#building the NN\n",
        "x = tf.placeholder(tf.float32, [None,784])\n",
        "W = tf.Variable(tf.zeros([784,10]))\n",
        "b = tf. Variable(tf.zeros([10]))\n",
        "\n",
        "#input * weights + baises\n",
        "y = tf.nn.softmax(tf.matmul(x, W) + b)\n",
        "\n",
        "y_ = tf.placeholder(tf.float32, [None, 10])\n",
        "\n",
        "error = tf.reduce_mean(-tf.reduce_sum(y_ * tf.log(tf.nn.softmax(y)),reduction_indices=[1]))\n",
        "\n",
        "train_step = tf.train.GradientDescentOptimizer(.5).minimize(error)\n",
        "\n",
        "sess = tf.InteractiveSession()\n",
        "\n",
        "tf.global_variables_initializer().run()\n",
        "\n",
        "for _ in range(1000):\n",
        "  batch_xs, batch_ys = mnist.train.next_batch(100)\n",
        " # print(batch_ys)\n",
        "  sess.run(train_step, feed_dict={x:batch_xs, y_ : batch_ys })\n",
        "  \n",
        "correct_prediction = tf.equal(tf.argmax(y,1), tf.argmax(y_,1))\n",
        "\n",
        "accuracy = tf.reduce_mean(tf.cast(correct_prediction, tf.float32))\n",
        "print(sess.run(accuracy, feed_dict={x: mnist.test.images, y_: mnist.test.labels}))"
      ],
      "execution_count": 29,
      "outputs": [
        {
          "output_type": "stream",
          "text": [
            "Extracting MNIST_data/train-images-idx3-ubyte.gz\n",
            "Extracting MNIST_data/train-labels-idx1-ubyte.gz\n",
            "Extracting MNIST_data/t10k-images-idx3-ubyte.gz\n",
            "Extracting MNIST_data/t10k-labels-idx1-ubyte.gz\n"
          ],
          "name": "stdout"
        },
        {
          "output_type": "stream",
          "text": [
            "/usr/local/lib/python3.6/dist-packages/tensorflow/python/client/session.py:1714: UserWarning: An interactive session is already active. This can cause out-of-memory errors in some cases. You must explicitly call `InteractiveSession.close()` to release resources held by the other session(s).\n",
            "  warnings.warn('An interactive session is already active. This can '\n"
          ],
          "name": "stderr"
        },
        {
          "output_type": "stream",
          "text": [
            "0.9001091\n"
          ],
          "name": "stdout"
        }
      ]
    }
  ]
}